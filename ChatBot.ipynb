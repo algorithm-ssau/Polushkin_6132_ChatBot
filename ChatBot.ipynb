{
  "cells": [
    {
      "cell_type": "code",
      "execution_count": 1,
      "metadata": {
        "id": "n_34lWpM2cUE"
      },
      "outputs": [],
      "source": [
        "\n",
        "import numpy as np\n",
        "import tensorflow as tf\n",
        "import pickle\n",
        "from tensorflow.keras import layers , activations , models , preprocessing"
      ]
    },
    {
      "cell_type": "code",
      "execution_count": 2,
      "metadata": {
        "colab": {
          "base_uri": "https://localhost:8080/"
        },
        "id": "nUTZ7hDo2kYE",
        "outputId": "b0b1d4ec-6ab2-49ed-d107-4aaf852f981b"
      },
      "outputs": [
        {
          "output_type": "stream",
          "name": "stdout",
          "text": [
            "--2022-06-21 00:48:05--  https://github.com/PolushkinDenis/chatbot_dataset/blob/main/chatbot_nlp.zip?raw=true\n",
            "Resolving github.com (github.com)... 20.205.243.166\n",
            "Connecting to github.com (github.com)|20.205.243.166|:443... connected.\n",
            "HTTP request sent, awaiting response... 302 Found\n",
            "Location: https://github.com/PolushkinDenis/chatbot_dataset/raw/main/chatbot_nlp.zip [following]\n",
            "--2022-06-21 00:48:05--  https://github.com/PolushkinDenis/chatbot_dataset/raw/main/chatbot_nlp.zip\n",
            "Reusing existing connection to github.com:443.\n",
            "HTTP request sent, awaiting response... 302 Found\n",
            "Location: https://raw.githubusercontent.com/PolushkinDenis/chatbot_dataset/main/chatbot_nlp.zip [following]\n",
            "--2022-06-21 00:48:05--  https://raw.githubusercontent.com/PolushkinDenis/chatbot_dataset/main/chatbot_nlp.zip\n",
            "Resolving raw.githubusercontent.com (raw.githubusercontent.com)... 185.199.108.133, 185.199.109.133, 185.199.110.133, ...\n",
            "Connecting to raw.githubusercontent.com (raw.githubusercontent.com)|185.199.108.133|:443... connected.\n",
            "HTTP request sent, awaiting response... 200 OK\n",
            "Length: 33604 (33K) [application/zip]\n",
            "Saving to: ‘chatbot_nlp.zip’\n",
            "\n",
            "chatbot_nlp.zip     100%[===================>]  32.82K  --.-KB/s    in 0s      \n",
            "\n",
            "2022-06-21 00:48:06 (99.7 MB/s) - ‘chatbot_nlp.zip’ saved [33604/33604]\n",
            "\n",
            "Archive:  chatbot_nlp.zip\n",
            "   creating: chatbot_nlp/\n",
            "   creating: chatbot_nlp/data/\n",
            "  inflating: chatbot_nlp/data/ai.yml  \n",
            "  inflating: chatbot_nlp/data/botprofile.yml  \n",
            "  inflating: chatbot_nlp/data/computers.yml  \n",
            "  inflating: chatbot_nlp/data/emotion.yml  \n",
            "  inflating: chatbot_nlp/data/food.yml  \n",
            "  inflating: chatbot_nlp/data/gossip.yml  \n",
            "  inflating: chatbot_nlp/data/greetings.yml  \n",
            "  inflating: chatbot_nlp/data/health.yml  \n",
            "  inflating: chatbot_nlp/data/history.yml  \n",
            "  inflating: chatbot_nlp/data/humor.yml  \n",
            "  inflating: chatbot_nlp/data/literature.yml  \n",
            "  inflating: chatbot_nlp/data/money.yml  \n",
            "  inflating: chatbot_nlp/data/movies.yml  \n",
            "  inflating: chatbot_nlp/data/politics.yml  \n",
            "  inflating: chatbot_nlp/data/psychology.yml  \n",
            "  inflating: chatbot_nlp/data/science.yml  \n",
            "  inflating: chatbot_nlp/data/sports.yml  \n",
            "  inflating: chatbot_nlp/data/trivia.yml  \n"
          ]
        }
      ],
      "source": [
        "\n",
        "!wget https://github.com/PolushkinDenis/chatbot_dataset/blob/main/chatbot_nlp.zip?raw=true -O chatbot_nlp.zip\n",
        "\n",
        "!unzip chatbot_nlp.zip"
      ]
    },
    {
      "cell_type": "code",
      "execution_count": 3,
      "metadata": {
        "colab": {
          "base_uri": "https://localhost:8080/"
        },
        "id": "bc7jegb62ru9",
        "outputId": "1a07b2b3-de17-4bcf-e0b6-b56796d03f61"
      },
      "outputs": [
        {
          "output_type": "stream",
          "name": "stdout",
          "text": [
            "VOCAB SIZE : 1677\n"
          ]
        }
      ],
      "source": [
        "from tensorflow.keras import preprocessing , utils\n",
        "import os\n",
        "import yaml\n",
        "\n",
        "dir_path = 'chatbot_nlp/data'\n",
        "files_list = os.listdir(dir_path + os.sep)\n",
        "\n",
        "questions = list()\n",
        "answers = list()\n",
        "\n",
        "for filepath in files_list:\n",
        "    stream = open( dir_path + os.sep + filepath , 'rb')\n",
        "    docs = yaml.safe_load(stream)\n",
        "    conversations = docs['conversations']\n",
        "    for con in conversations:\n",
        "        if len( con ) > 2 :\n",
        "            questions.append(con[0])\n",
        "            replies = con[ 1 : ]\n",
        "            ans = ''\n",
        "            for rep in replies:\n",
        "                ans += ' ' + rep\n",
        "            answers.append( ans )\n",
        "        elif len( con )> 1:\n",
        "            questions.append(con[0])\n",
        "            answers.append(con[1])\n",
        "\n",
        "answers_with_tags = list()\n",
        "for i in range( len( answers ) ):\n",
        "    if type( answers[i] ) == str:\n",
        "        answers_with_tags.append( answers[i] )\n",
        "    else:\n",
        "        questions.pop( i )\n",
        "\n",
        "answers = list()\n",
        "for i in range( len( answers_with_tags ) ) :\n",
        "    answers.append( '<START> ' + answers_with_tags[i] + ' <END>' )\n",
        "\n",
        "tokenizer = preprocessing.text.Tokenizer()\n",
        "tokenizer.fit_on_texts( questions + answers )\n",
        "VOCAB_SIZE = len( tokenizer.word_index )+1\n",
        "print( 'VOCAB SIZE : {}'.format( VOCAB_SIZE ))\n"
      ]
    },
    {
      "cell_type": "code",
      "execution_count": 4,
      "metadata": {
        "colab": {
          "base_uri": "https://localhost:8080/"
        },
        "id": "CNl4XcaE2smo",
        "outputId": "c98d96e1-cadb-452d-82d0-151f3024c58d"
      },
      "outputs": [
        {
          "output_type": "stream",
          "name": "stdout",
          "text": [
            "(596, 6) 6\n",
            "(596, 386) 386\n",
            "(596, 386, 1677)\n"
          ]
        }
      ],
      "source": [
        "from gensim.models import Word2Vec\n",
        "import re\n",
        "\n",
        "vocab = []\n",
        "for word in tokenizer.word_index:\n",
        "    vocab.append( word )\n",
        "\n",
        "def tokenize( sentences ):\n",
        "    tokens_list = []\n",
        "    vocabulary = []\n",
        "    for sentence in sentences:\n",
        "        sentence = sentence.lower()\n",
        "        sentence = re.sub( '[^a-zA-Z]', ' ', sentence )\n",
        "        tokens = sentence.split()\n",
        "        vocabulary += tokens\n",
        "        tokens_list.append( tokens )\n",
        "    return tokens_list , vocabulary\n",
        "\n",
        "#p = tokenize( questions + answers )\n",
        "#model = Word2Vec( p[ 0 ] ) \n",
        "\n",
        "#embedding_matrix = np.zeros( ( VOCAB_SIZE , 100 ) )\n",
        "#for i in range( len( tokenizer.word_index ) ):\n",
        "    #embedding_matrix[ i ] = model[ vocab[i] ]\n",
        "\n",
        "# encoder_input_data\n",
        "tokenized_questions = tokenizer.texts_to_sequences( questions )\n",
        "maxlen_questions = max( [ len(x) for x in tokenized_questions ] )\n",
        "padded_questions = preprocessing.sequence.pad_sequences( tokenized_questions , maxlen=maxlen_questions , padding='post' )\n",
        "encoder_input_data = np.array( padded_questions )\n",
        "print( encoder_input_data.shape , maxlen_questions )\n",
        "\n",
        "# decoder_input_data\n",
        "tokenized_answers = tokenizer.texts_to_sequences( answers )\n",
        "maxlen_answers = max( [ len(x) for x in tokenized_answers ] )\n",
        "padded_answers = preprocessing.sequence.pad_sequences( tokenized_answers , maxlen=maxlen_answers , padding='post' )\n",
        "decoder_input_data = np.array( padded_answers )\n",
        "print( decoder_input_data.shape , maxlen_answers )\n",
        "\n",
        "# decoder_output_data\n",
        "tokenized_answers = tokenizer.texts_to_sequences( answers )\n",
        "for i in range(len(tokenized_answers)) :\n",
        "    tokenized_answers[i] = tokenized_answers[i][1:]\n",
        "padded_answers = preprocessing.sequence.pad_sequences( tokenized_answers , maxlen=maxlen_answers , padding='post' )\n",
        "onehot_answers = utils.to_categorical( padded_answers , VOCAB_SIZE )\n",
        "decoder_output_data = np.array( onehot_answers )\n",
        "print( decoder_output_data.shape )\n"
      ]
    },
    {
      "cell_type": "code",
      "execution_count": 5,
      "metadata": {
        "colab": {
          "base_uri": "https://localhost:8080/"
        },
        "id": "juYtrc9D2vEi",
        "outputId": "50d484fc-754f-4f37-9245-c8e55b806f2c"
      },
      "outputs": [
        {
          "output_type": "stream",
          "name": "stdout",
          "text": [
            "Model: \"model\"\n",
            "__________________________________________________________________________________________________\n",
            " Layer (type)                   Output Shape         Param #     Connected to                     \n",
            "==================================================================================================\n",
            " input_1 (InputLayer)           [(None, 6)]          0           []                               \n",
            "                                                                                                  \n",
            " input_2 (InputLayer)           [(None, 386)]        0           []                               \n",
            "                                                                                                  \n",
            " embedding (Embedding)          (None, 6, 200)       335400      ['input_1[0][0]']                \n",
            "                                                                                                  \n",
            " embedding_1 (Embedding)        (None, 386, 200)     335400      ['input_2[0][0]']                \n",
            "                                                                                                  \n",
            " lstm (LSTM)                    [(None, 200),        320800      ['embedding[0][0]']              \n",
            "                                 (None, 200),                                                     \n",
            "                                 (None, 200)]                                                     \n",
            "                                                                                                  \n",
            " lstm_1 (LSTM)                  [(None, 386, 200),   320800      ['embedding_1[0][0]',            \n",
            "                                 (None, 200),                     'lstm[0][1]',                   \n",
            "                                 (None, 200)]                     'lstm[0][2]']                   \n",
            "                                                                                                  \n",
            " dense (Dense)                  (None, 386, 1677)    337077      ['lstm_1[0][0]']                 \n",
            "                                                                                                  \n",
            "==================================================================================================\n",
            "Total params: 1,649,477\n",
            "Trainable params: 1,649,477\n",
            "Non-trainable params: 0\n",
            "__________________________________________________________________________________________________\n"
          ]
        }
      ],
      "source": [
        "\n",
        "encoder_inputs = tf.keras.layers.Input(shape=( maxlen_questions , ))\n",
        "encoder_embedding = tf.keras.layers.Embedding( VOCAB_SIZE, 200 , mask_zero=True ) (encoder_inputs)\n",
        "encoder_outputs , state_h , state_c = tf.keras.layers.LSTM( 200 , return_state=True )( encoder_embedding )\n",
        "encoder_states = [ state_h , state_c ]\n",
        "\n",
        "decoder_inputs = tf.keras.layers.Input(shape=( maxlen_answers ,  ))\n",
        "decoder_embedding = tf.keras.layers.Embedding( VOCAB_SIZE, 200 , mask_zero=True) (decoder_inputs)\n",
        "decoder_lstm = tf.keras.layers.LSTM( 200 , return_state=True , return_sequences=True )\n",
        "decoder_outputs , _ , _ = decoder_lstm ( decoder_embedding , initial_state=encoder_states )\n",
        "decoder_dense = tf.keras.layers.Dense( VOCAB_SIZE , activation=tf.keras.activations.softmax ) \n",
        "output = decoder_dense ( decoder_outputs )\n",
        "\n",
        "model = tf.keras.models.Model([encoder_inputs, decoder_inputs], output )\n",
        "model.compile(optimizer=tf.keras.optimizers.RMSprop(), loss='categorical_crossentropy', metrics=['accuracy'])\n",
        "\n",
        "model.summary()"
      ]
    },
    {
      "cell_type": "code",
      "source": [
        "decoder_input_data"
      ],
      "metadata": {
        "colab": {
          "base_uri": "https://localhost:8080/"
        },
        "id": "H28EmRkmGpEQ",
        "outputId": "d79944fb-158a-4d80-8abc-d4445c2dd1ad"
      },
      "execution_count": null,
      "outputs": [
        {
          "output_type": "execute_result",
          "data": {
            "text/plain": [
              "array([[  14,  668,  669, ...,    0,    0,    0],\n",
              "       [  14,  670,   15, ...,    0,    0,    0],\n",
              "       [  14,  200,    7, ...,    0,    0,    0],\n",
              "       ...,\n",
              "       [  14,  314, 1669, ...,    0,    0,    0],\n",
              "       [  14,   32,   88, ...,    0,    0,    0],\n",
              "       [  14, 1676,   15, ...,    0,    0,    0]], dtype=int32)"
            ]
          },
          "metadata": {},
          "execution_count": 6
        }
      ]
    },
    {
      "cell_type": "code",
      "source": [
        "encoder_input_data"
      ],
      "metadata": {
        "colab": {
          "base_uri": "https://localhost:8080/"
        },
        "id": "FCAWMzDjHffj",
        "outputId": "b271b598-0194-46f5-aeb3-89c7bbe09597"
      },
      "execution_count": null,
      "outputs": [
        {
          "output_type": "execute_result",
          "data": {
            "text/plain": [
              "array([[538, 539,   9, 540, 326,   0],\n",
              "       [100,  38, 541,  39, 542, 327],\n",
              "       [ 31,  37, 137,   0,   0,   0],\n",
              "       ...,\n",
              "       [ 92, 120,   0,   0,   0,   0],\n",
              "       [119, 396,   0,   0,   0,   0],\n",
              "       [ 50, 112, 666, 667,   0,   0]], dtype=int32)"
            ]
          },
          "metadata": {},
          "execution_count": 15
        }
      ]
    },
    {
      "cell_type": "code",
      "execution_count": 10,
      "metadata": {
        "colab": {
          "base_uri": "https://localhost:8080/"
        },
        "id": "tdgMDlEu2xUg",
        "outputId": "687ba24b-2d5b-431c-d4cf-e3f8d05da26a"
      },
      "outputs": [
        {
          "output_type": "stream",
          "name": "stdout",
          "text": [
            "Epoch 1/100\n",
            "12/12 [==============================] - 1s 111ms/step - loss: 0.4135 - accuracy: 0.0883\n",
            "Epoch 2/100\n",
            "12/12 [==============================] - 1s 106ms/step - loss: 0.4050 - accuracy: 0.0861\n",
            "Epoch 3/100\n",
            "12/12 [==============================] - 1s 104ms/step - loss: 0.3968 - accuracy: 0.0829\n",
            "Epoch 4/100\n",
            "12/12 [==============================] - 1s 103ms/step - loss: 0.3821 - accuracy: 0.0997\n",
            "Epoch 5/100\n",
            "12/12 [==============================] - 1s 105ms/step - loss: 0.3766 - accuracy: 0.1097\n",
            "Epoch 6/100\n",
            "12/12 [==============================] - 1s 105ms/step - loss: 0.3790 - accuracy: 0.1020\n",
            "Epoch 7/100\n",
            "12/12 [==============================] - 1s 104ms/step - loss: 0.3709 - accuracy: 0.1100\n",
            "Epoch 8/100\n",
            "12/12 [==============================] - 1s 105ms/step - loss: 0.3681 - accuracy: 0.1104\n",
            "Epoch 9/100\n",
            "12/12 [==============================] - 1s 105ms/step - loss: 0.3651 - accuracy: 0.1111\n",
            "Epoch 10/100\n",
            "12/12 [==============================] - 1s 103ms/step - loss: 0.3606 - accuracy: 0.1190\n",
            "Epoch 11/100\n",
            "12/12 [==============================] - 1s 102ms/step - loss: 0.3539 - accuracy: 0.1325\n",
            "Epoch 12/100\n",
            "12/12 [==============================] - 1s 105ms/step - loss: 0.3470 - accuracy: 0.1541\n",
            "Epoch 13/100\n",
            "12/12 [==============================] - 1s 103ms/step - loss: 0.3411 - accuracy: 0.1566\n",
            "Epoch 14/100\n",
            "12/12 [==============================] - 1s 104ms/step - loss: 0.3368 - accuracy: 0.1619\n",
            "Epoch 15/100\n",
            "12/12 [==============================] - 1s 104ms/step - loss: 0.3328 - accuracy: 0.1716\n",
            "Epoch 16/100\n",
            "12/12 [==============================] - 1s 103ms/step - loss: 0.3304 - accuracy: 0.1694\n",
            "Epoch 17/100\n",
            "12/12 [==============================] - 1s 105ms/step - loss: 0.3275 - accuracy: 0.1721\n",
            "Epoch 18/100\n",
            "12/12 [==============================] - 1s 104ms/step - loss: 0.3248 - accuracy: 0.1761\n",
            "Epoch 19/100\n",
            "12/12 [==============================] - 1s 103ms/step - loss: 0.3216 - accuracy: 0.1824\n",
            "Epoch 20/100\n",
            "12/12 [==============================] - 1s 106ms/step - loss: 0.3193 - accuracy: 0.1853\n",
            "Epoch 21/100\n",
            "12/12 [==============================] - 1s 103ms/step - loss: 0.3163 - accuracy: 0.1860\n",
            "Epoch 22/100\n",
            "12/12 [==============================] - 1s 103ms/step - loss: 0.3132 - accuracy: 0.1877\n",
            "Epoch 23/100\n",
            "12/12 [==============================] - 1s 101ms/step - loss: 0.3104 - accuracy: 0.1933\n",
            "Epoch 24/100\n",
            "12/12 [==============================] - 1s 103ms/step - loss: 0.3077 - accuracy: 0.1953\n",
            "Epoch 25/100\n",
            "12/12 [==============================] - 1s 105ms/step - loss: 0.3051 - accuracy: 0.1991\n",
            "Epoch 26/100\n",
            "12/12 [==============================] - 1s 104ms/step - loss: 0.3024 - accuracy: 0.2034\n",
            "Epoch 27/100\n",
            "12/12 [==============================] - 1s 104ms/step - loss: 0.2996 - accuracy: 0.2118\n",
            "Epoch 28/100\n",
            "12/12 [==============================] - 1s 104ms/step - loss: 0.2974 - accuracy: 0.2150\n",
            "Epoch 29/100\n",
            "12/12 [==============================] - 1s 103ms/step - loss: 0.2944 - accuracy: 0.2200\n",
            "Epoch 30/100\n",
            "12/12 [==============================] - 1s 104ms/step - loss: 0.2917 - accuracy: 0.2252\n",
            "Epoch 31/100\n",
            "12/12 [==============================] - 1s 103ms/step - loss: 0.2895 - accuracy: 0.2297\n",
            "Epoch 32/100\n",
            "12/12 [==============================] - 1s 104ms/step - loss: 0.2871 - accuracy: 0.2363\n",
            "Epoch 33/100\n",
            "12/12 [==============================] - 1s 102ms/step - loss: 0.2850 - accuracy: 0.2425\n",
            "Epoch 34/100\n",
            "12/12 [==============================] - 1s 106ms/step - loss: 0.2827 - accuracy: 0.2421\n",
            "Epoch 35/100\n",
            "12/12 [==============================] - 1s 102ms/step - loss: 0.2805 - accuracy: 0.2509\n",
            "Epoch 36/100\n",
            "12/12 [==============================] - 1s 104ms/step - loss: 0.2782 - accuracy: 0.2555\n",
            "Epoch 37/100\n",
            "12/12 [==============================] - 1s 102ms/step - loss: 0.2764 - accuracy: 0.2584\n",
            "Epoch 38/100\n",
            "12/12 [==============================] - 1s 102ms/step - loss: 0.2742 - accuracy: 0.2634\n",
            "Epoch 39/100\n",
            "12/12 [==============================] - 1s 106ms/step - loss: 0.2722 - accuracy: 0.2669\n",
            "Epoch 40/100\n",
            "12/12 [==============================] - 1s 104ms/step - loss: 0.2704 - accuracy: 0.2704\n",
            "Epoch 41/100\n",
            "12/12 [==============================] - 1s 108ms/step - loss: 0.2679 - accuracy: 0.2781\n",
            "Epoch 42/100\n",
            "12/12 [==============================] - 1s 104ms/step - loss: 0.2659 - accuracy: 0.2842\n",
            "Epoch 43/100\n",
            "12/12 [==============================] - 1s 105ms/step - loss: 0.2640 - accuracy: 0.2888\n",
            "Epoch 44/100\n",
            "12/12 [==============================] - 1s 105ms/step - loss: 0.2625 - accuracy: 0.2937\n",
            "Epoch 45/100\n",
            "12/12 [==============================] - 1s 105ms/step - loss: 0.2600 - accuracy: 0.3002\n",
            "Epoch 46/100\n",
            "12/12 [==============================] - 1s 103ms/step - loss: 0.2580 - accuracy: 0.3028\n",
            "Epoch 47/100\n",
            "12/12 [==============================] - 1s 105ms/step - loss: 0.2560 - accuracy: 0.3109\n",
            "Epoch 48/100\n",
            "12/12 [==============================] - 1s 104ms/step - loss: 0.2543 - accuracy: 0.3177\n",
            "Epoch 49/100\n",
            "12/12 [==============================] - 1s 104ms/step - loss: 0.2523 - accuracy: 0.3228\n",
            "Epoch 50/100\n",
            "12/12 [==============================] - 1s 104ms/step - loss: 0.2502 - accuracy: 0.3274\n",
            "Epoch 51/100\n",
            "12/12 [==============================] - 1s 104ms/step - loss: 0.2484 - accuracy: 0.3318\n",
            "Epoch 52/100\n",
            "12/12 [==============================] - 1s 106ms/step - loss: 0.2464 - accuracy: 0.3389\n",
            "Epoch 53/100\n",
            "12/12 [==============================] - 1s 108ms/step - loss: 0.2445 - accuracy: 0.3454\n",
            "Epoch 54/100\n",
            "12/12 [==============================] - 1s 107ms/step - loss: 0.2428 - accuracy: 0.3504\n",
            "Epoch 55/100\n",
            "12/12 [==============================] - 1s 104ms/step - loss: 0.2410 - accuracy: 0.3570\n",
            "Epoch 56/100\n",
            "12/12 [==============================] - 1s 105ms/step - loss: 0.2393 - accuracy: 0.3596\n",
            "Epoch 57/100\n",
            "12/12 [==============================] - 1s 105ms/step - loss: 0.2372 - accuracy: 0.3654\n",
            "Epoch 58/100\n",
            "12/12 [==============================] - 1s 104ms/step - loss: 0.2355 - accuracy: 0.3730\n",
            "Epoch 59/100\n",
            "12/12 [==============================] - 1s 104ms/step - loss: 0.2338 - accuracy: 0.3721\n",
            "Epoch 60/100\n",
            "12/12 [==============================] - 1s 107ms/step - loss: 0.2320 - accuracy: 0.3771\n",
            "Epoch 61/100\n",
            "12/12 [==============================] - 1s 104ms/step - loss: 0.2304 - accuracy: 0.3828\n",
            "Epoch 62/100\n",
            "12/12 [==============================] - 1s 115ms/step - loss: 0.2288 - accuracy: 0.3856\n",
            "Epoch 63/100\n",
            "12/12 [==============================] - 2s 131ms/step - loss: 0.2272 - accuracy: 0.3910\n",
            "Epoch 64/100\n",
            "12/12 [==============================] - 1s 106ms/step - loss: 0.2256 - accuracy: 0.3941\n",
            "Epoch 65/100\n",
            "12/12 [==============================] - 1s 104ms/step - loss: 0.2236 - accuracy: 0.3989\n",
            "Epoch 66/100\n",
            "12/12 [==============================] - 1s 105ms/step - loss: 0.2221 - accuracy: 0.4040\n",
            "Epoch 67/100\n",
            "12/12 [==============================] - 1s 106ms/step - loss: 0.2206 - accuracy: 0.4071\n",
            "Epoch 68/100\n",
            "12/12 [==============================] - 1s 105ms/step - loss: 0.2192 - accuracy: 0.4103\n",
            "Epoch 69/100\n",
            "12/12 [==============================] - 1s 105ms/step - loss: 0.2173 - accuracy: 0.4161\n",
            "Epoch 70/100\n",
            "12/12 [==============================] - 1s 105ms/step - loss: 0.2160 - accuracy: 0.4183\n",
            "Epoch 71/100\n",
            "12/12 [==============================] - 1s 104ms/step - loss: 0.2145 - accuracy: 0.4208\n",
            "Epoch 72/100\n",
            "12/12 [==============================] - 1s 105ms/step - loss: 0.2129 - accuracy: 0.4251\n",
            "Epoch 73/100\n",
            "12/12 [==============================] - 1s 104ms/step - loss: 0.2116 - accuracy: 0.4274\n",
            "Epoch 74/100\n",
            "12/12 [==============================] - 1s 105ms/step - loss: 0.2099 - accuracy: 0.4325\n",
            "Epoch 75/100\n",
            "12/12 [==============================] - 1s 106ms/step - loss: 0.2086 - accuracy: 0.4333\n",
            "Epoch 76/100\n",
            "12/12 [==============================] - 1s 107ms/step - loss: 0.2074 - accuracy: 0.4374\n",
            "Epoch 77/100\n",
            "12/12 [==============================] - 1s 106ms/step - loss: 0.2058 - accuracy: 0.4405\n",
            "Epoch 78/100\n",
            "12/12 [==============================] - 1s 104ms/step - loss: 0.2044 - accuracy: 0.4430\n",
            "Epoch 79/100\n",
            "12/12 [==============================] - 1s 104ms/step - loss: 0.2028 - accuracy: 0.4492\n",
            "Epoch 80/100\n",
            "12/12 [==============================] - 1s 104ms/step - loss: 0.2018 - accuracy: 0.4508\n",
            "Epoch 81/100\n",
            "12/12 [==============================] - 1s 105ms/step - loss: 0.2004 - accuracy: 0.4528\n",
            "Epoch 82/100\n",
            "12/12 [==============================] - 1s 105ms/step - loss: 0.1991 - accuracy: 0.4565\n",
            "Epoch 83/100\n",
            "12/12 [==============================] - 1s 103ms/step - loss: 0.1981 - accuracy: 0.4573\n",
            "Epoch 84/100\n",
            "12/12 [==============================] - 1s 106ms/step - loss: 0.1966 - accuracy: 0.4614\n",
            "Epoch 85/100\n",
            "12/12 [==============================] - 1s 103ms/step - loss: 0.1959 - accuracy: 0.4628\n",
            "Epoch 86/100\n",
            "12/12 [==============================] - 1s 105ms/step - loss: 0.1942 - accuracy: 0.4696\n",
            "Epoch 87/100\n",
            "12/12 [==============================] - 1s 105ms/step - loss: 0.1931 - accuracy: 0.4711\n",
            "Epoch 88/100\n",
            "12/12 [==============================] - 1s 104ms/step - loss: 0.1919 - accuracy: 0.4758\n",
            "Epoch 89/100\n",
            "12/12 [==============================] - 1s 105ms/step - loss: 0.1908 - accuracy: 0.4770\n",
            "Epoch 90/100\n",
            "12/12 [==============================] - 1s 106ms/step - loss: 0.1899 - accuracy: 0.4795\n",
            "Epoch 91/100\n",
            "12/12 [==============================] - 1s 104ms/step - loss: 0.1887 - accuracy: 0.4819\n",
            "Epoch 92/100\n",
            "12/12 [==============================] - 1s 106ms/step - loss: 0.1874 - accuracy: 0.4814\n",
            "Epoch 93/100\n",
            "12/12 [==============================] - 1s 103ms/step - loss: 0.1868 - accuracy: 0.4845\n",
            "Epoch 94/100\n",
            "12/12 [==============================] - 1s 106ms/step - loss: 0.1855 - accuracy: 0.4883\n",
            "Epoch 95/100\n",
            "12/12 [==============================] - 1s 106ms/step - loss: 0.1846 - accuracy: 0.4915\n",
            "Epoch 96/100\n",
            "12/12 [==============================] - 1s 102ms/step - loss: 0.1836 - accuracy: 0.4946\n",
            "Epoch 97/100\n",
            "12/12 [==============================] - 1s 105ms/step - loss: 0.1822 - accuracy: 0.4983\n",
            "Epoch 98/100\n",
            "12/12 [==============================] - 1s 105ms/step - loss: 0.1818 - accuracy: 0.4963\n",
            "Epoch 99/100\n",
            "12/12 [==============================] - 1s 103ms/step - loss: 0.1806 - accuracy: 0.4994\n",
            "Epoch 100/100\n",
            "12/12 [==============================] - 1s 101ms/step - loss: 0.1799 - accuracy: 0.5031\n"
          ]
        }
      ],
      "source": [
        "\n",
        "train = model.fit([encoder_input_data , decoder_input_data], decoder_output_data, batch_size=50, epochs=100 ) \n",
        "\n",
        "model.save( 'model.h5' ) \n"
      ]
    },
    {
      "cell_type": "code",
      "execution_count": 11,
      "metadata": {
        "id": "ZwsK5-Hh22ER"
      },
      "outputs": [],
      "source": [
        "def make_inference_models():\n",
        "    \n",
        "    encoder_model = tf.keras.models.Model(encoder_inputs, encoder_states)\n",
        "    \n",
        "    decoder_state_input_h = tf.keras.layers.Input(shape=( 200 ,))\n",
        "    decoder_state_input_c = tf.keras.layers.Input(shape=( 200 ,))\n",
        "    \n",
        "    decoder_states_inputs = [decoder_state_input_h, decoder_state_input_c]\n",
        "    \n",
        "    decoder_outputs, state_h, state_c = decoder_lstm(\n",
        "        decoder_embedding , initial_state=decoder_states_inputs)\n",
        "    decoder_states = [state_h, state_c]\n",
        "    decoder_outputs = decoder_dense(decoder_outputs)\n",
        "    decoder_model = tf.keras.models.Model(\n",
        "        [decoder_inputs] + decoder_states_inputs,\n",
        "        [decoder_outputs] + decoder_states)\n",
        "    \n",
        "    return encoder_model , decoder_model"
      ]
    },
    {
      "cell_type": "code",
      "execution_count": 12,
      "metadata": {
        "id": "5AjyOzJx2z45"
      },
      "outputs": [],
      "source": [
        "\n",
        "def str_to_tokens( sentence : str ):\n",
        "    words = sentence.lower().split()\n",
        "    tokens_list = list()\n",
        "    for word in words:\n",
        "        tokens_list.append( tokenizer.word_index[ word ] ) \n",
        "    return preprocessing.sequence.pad_sequences( [tokens_list] , maxlen=maxlen_questions , padding='post')"
      ]
    },
    {
      "cell_type": "code",
      "source": [
        "enc_model , dec_model = make_inference_models()\n",
        "\n",
        "for _ in range(20):\n",
        "  try:\n",
        "    states_values = enc_model.predict( str_to_tokens( input( 'Enter question : ' ) ) )\n",
        "    empty_target_seq = np.zeros( ( 1 , 1 ) )\n",
        "    empty_target_seq[0, 0] = tokenizer.word_index['start']\n",
        "    stop_condition = False\n",
        "    decoded_translation = ''\n",
        "    while not stop_condition :\n",
        "        dec_outputs , h , c = dec_model.predict([ empty_target_seq ] + states_values )\n",
        "        sampled_word_index = np.argmax( dec_outputs[0, -1, :] )\n",
        "        sampled_word = None\n",
        "        for word , index in tokenizer.word_index.items() :\n",
        "            if sampled_word_index == index :\n",
        "                decoded_translation += ' {}'.format( word )\n",
        "                sampled_word = word\n",
        "        \n",
        "        if sampled_word == 'end' or len(decoded_translation.split()) > maxlen_answers:\n",
        "            stop_condition = True\n",
        "            \n",
        "        empty_target_seq = np.zeros( ( 1 , 1 ) )  \n",
        "        empty_target_seq[ 0 , 0 ] = sampled_word_index\n",
        "        states_values = [ h , c ] \n",
        "\n",
        "    print( decoded_translation )\n",
        "  except Exception:\n",
        "       print(\"Ошибка\")"
      ],
      "metadata": {
        "id": "Sq6z4uCMdyK6",
        "colab": {
          "base_uri": "https://localhost:8080/",
          "height": 608
        },
        "outputId": "cc834abc-84ea-4857-be79-923eaef08cbd"
      },
      "execution_count": 13,
      "outputs": [
        {
          "output_type": "stream",
          "name": "stdout",
          "text": [
            "Enter question : привет\n",
            "WARNING:tensorflow:Model was constructed with shape (None, 386) for input KerasTensor(type_spec=TensorSpec(shape=(None, 386), dtype=tf.float32, name='input_2'), name='input_2', description=\"created by layer 'input_2'\"), but it was called on an input with incompatible shape (None, 1).\n",
            " привет end\n"
          ]
        },
        {
          "output_type": "error",
          "ename": "KeyboardInterrupt",
          "evalue": "ignored",
          "traceback": [
            "\u001b[0;31m---------------------------------------------------------------------------\u001b[0m",
            "\u001b[0;31mKeyboardInterrupt\u001b[0m                         Traceback (most recent call last)",
            "\u001b[0;32m/usr/local/lib/python3.7/dist-packages/ipykernel/kernelbase.py\u001b[0m in \u001b[0;36m_input_request\u001b[0;34m(self, prompt, ident, parent, password)\u001b[0m\n\u001b[1;32m    728\u001b[0m             \u001b[0;32mtry\u001b[0m\u001b[0;34m:\u001b[0m\u001b[0;34m\u001b[0m\u001b[0;34m\u001b[0m\u001b[0m\n\u001b[0;32m--> 729\u001b[0;31m                 \u001b[0mident\u001b[0m\u001b[0;34m,\u001b[0m \u001b[0mreply\u001b[0m \u001b[0;34m=\u001b[0m \u001b[0mself\u001b[0m\u001b[0;34m.\u001b[0m\u001b[0msession\u001b[0m\u001b[0;34m.\u001b[0m\u001b[0mrecv\u001b[0m\u001b[0;34m(\u001b[0m\u001b[0mself\u001b[0m\u001b[0;34m.\u001b[0m\u001b[0mstdin_socket\u001b[0m\u001b[0;34m,\u001b[0m \u001b[0;36m0\u001b[0m\u001b[0;34m)\u001b[0m\u001b[0;34m\u001b[0m\u001b[0;34m\u001b[0m\u001b[0m\n\u001b[0m\u001b[1;32m    730\u001b[0m             \u001b[0;32mexcept\u001b[0m \u001b[0mException\u001b[0m\u001b[0;34m:\u001b[0m\u001b[0;34m\u001b[0m\u001b[0;34m\u001b[0m\u001b[0m\n",
            "\u001b[0;32m/usr/local/lib/python3.7/dist-packages/jupyter_client/session.py\u001b[0m in \u001b[0;36mrecv\u001b[0;34m(self, socket, mode, content, copy)\u001b[0m\n\u001b[1;32m    802\u001b[0m         \u001b[0;32mtry\u001b[0m\u001b[0;34m:\u001b[0m\u001b[0;34m\u001b[0m\u001b[0;34m\u001b[0m\u001b[0m\n\u001b[0;32m--> 803\u001b[0;31m             \u001b[0mmsg_list\u001b[0m \u001b[0;34m=\u001b[0m \u001b[0msocket\u001b[0m\u001b[0;34m.\u001b[0m\u001b[0mrecv_multipart\u001b[0m\u001b[0;34m(\u001b[0m\u001b[0mmode\u001b[0m\u001b[0;34m,\u001b[0m \u001b[0mcopy\u001b[0m\u001b[0;34m=\u001b[0m\u001b[0mcopy\u001b[0m\u001b[0;34m)\u001b[0m\u001b[0;34m\u001b[0m\u001b[0;34m\u001b[0m\u001b[0m\n\u001b[0m\u001b[1;32m    804\u001b[0m         \u001b[0;32mexcept\u001b[0m \u001b[0mzmq\u001b[0m\u001b[0;34m.\u001b[0m\u001b[0mZMQError\u001b[0m \u001b[0;32mas\u001b[0m \u001b[0me\u001b[0m\u001b[0;34m:\u001b[0m\u001b[0;34m\u001b[0m\u001b[0;34m\u001b[0m\u001b[0m\n",
            "\u001b[0;32m/usr/local/lib/python3.7/dist-packages/zmq/sugar/socket.py\u001b[0m in \u001b[0;36mrecv_multipart\u001b[0;34m(self, flags, copy, track)\u001b[0m\n\u001b[1;32m    726\u001b[0m         \"\"\"\n\u001b[0;32m--> 727\u001b[0;31m         \u001b[0mparts\u001b[0m \u001b[0;34m=\u001b[0m \u001b[0;34m[\u001b[0m\u001b[0mself\u001b[0m\u001b[0;34m.\u001b[0m\u001b[0mrecv\u001b[0m\u001b[0;34m(\u001b[0m\u001b[0mflags\u001b[0m\u001b[0;34m,\u001b[0m \u001b[0mcopy\u001b[0m\u001b[0;34m=\u001b[0m\u001b[0mcopy\u001b[0m\u001b[0;34m,\u001b[0m \u001b[0mtrack\u001b[0m\u001b[0;34m=\u001b[0m\u001b[0mtrack\u001b[0m\u001b[0;34m)\u001b[0m\u001b[0;34m]\u001b[0m\u001b[0;34m\u001b[0m\u001b[0;34m\u001b[0m\u001b[0m\n\u001b[0m\u001b[1;32m    728\u001b[0m         \u001b[0;31m# have first part already, only loop while more to receive\u001b[0m\u001b[0;34m\u001b[0m\u001b[0;34m\u001b[0m\u001b[0;34m\u001b[0m\u001b[0m\n",
            "\u001b[0;32mzmq/backend/cython/socket.pyx\u001b[0m in \u001b[0;36mzmq.backend.cython.socket.Socket.recv\u001b[0;34m()\u001b[0m\n",
            "\u001b[0;32mzmq/backend/cython/socket.pyx\u001b[0m in \u001b[0;36mzmq.backend.cython.socket.Socket.recv\u001b[0;34m()\u001b[0m\n",
            "\u001b[0;32mzmq/backend/cython/socket.pyx\u001b[0m in \u001b[0;36mzmq.backend.cython.socket._recv_copy\u001b[0;34m()\u001b[0m\n",
            "\u001b[0;32m/usr/local/lib/python3.7/dist-packages/zmq/backend/cython/checkrc.pxd\u001b[0m in \u001b[0;36mzmq.backend.cython.checkrc._check_rc\u001b[0;34m()\u001b[0m\n",
            "\u001b[0;31mKeyboardInterrupt\u001b[0m: ",
            "\nDuring handling of the above exception, another exception occurred:\n",
            "\u001b[0;31mKeyboardInterrupt\u001b[0m                         Traceback (most recent call last)",
            "\u001b[0;32m<ipython-input-13-3e910a055f16>\u001b[0m in \u001b[0;36m<module>\u001b[0;34m()\u001b[0m\n\u001b[1;32m      3\u001b[0m \u001b[0;32mfor\u001b[0m \u001b[0m_\u001b[0m \u001b[0;32min\u001b[0m \u001b[0mrange\u001b[0m\u001b[0;34m(\u001b[0m\u001b[0;36m20\u001b[0m\u001b[0;34m)\u001b[0m\u001b[0;34m:\u001b[0m\u001b[0;34m\u001b[0m\u001b[0;34m\u001b[0m\u001b[0m\n\u001b[1;32m      4\u001b[0m   \u001b[0;32mtry\u001b[0m\u001b[0;34m:\u001b[0m\u001b[0;34m\u001b[0m\u001b[0;34m\u001b[0m\u001b[0m\n\u001b[0;32m----> 5\u001b[0;31m     \u001b[0mstates_values\u001b[0m \u001b[0;34m=\u001b[0m \u001b[0menc_model\u001b[0m\u001b[0;34m.\u001b[0m\u001b[0mpredict\u001b[0m\u001b[0;34m(\u001b[0m \u001b[0mstr_to_tokens\u001b[0m\u001b[0;34m(\u001b[0m \u001b[0minput\u001b[0m\u001b[0;34m(\u001b[0m \u001b[0;34m'Enter question : '\u001b[0m \u001b[0;34m)\u001b[0m \u001b[0;34m)\u001b[0m \u001b[0;34m)\u001b[0m\u001b[0;34m\u001b[0m\u001b[0;34m\u001b[0m\u001b[0m\n\u001b[0m\u001b[1;32m      6\u001b[0m     \u001b[0mempty_target_seq\u001b[0m \u001b[0;34m=\u001b[0m \u001b[0mnp\u001b[0m\u001b[0;34m.\u001b[0m\u001b[0mzeros\u001b[0m\u001b[0;34m(\u001b[0m \u001b[0;34m(\u001b[0m \u001b[0;36m1\u001b[0m \u001b[0;34m,\u001b[0m \u001b[0;36m1\u001b[0m \u001b[0;34m)\u001b[0m \u001b[0;34m)\u001b[0m\u001b[0;34m\u001b[0m\u001b[0;34m\u001b[0m\u001b[0m\n\u001b[1;32m      7\u001b[0m     \u001b[0mempty_target_seq\u001b[0m\u001b[0;34m[\u001b[0m\u001b[0;36m0\u001b[0m\u001b[0;34m,\u001b[0m \u001b[0;36m0\u001b[0m\u001b[0;34m]\u001b[0m \u001b[0;34m=\u001b[0m \u001b[0mtokenizer\u001b[0m\u001b[0;34m.\u001b[0m\u001b[0mword_index\u001b[0m\u001b[0;34m[\u001b[0m\u001b[0;34m'start'\u001b[0m\u001b[0;34m]\u001b[0m\u001b[0;34m\u001b[0m\u001b[0;34m\u001b[0m\u001b[0m\n",
            "\u001b[0;32m/usr/local/lib/python3.7/dist-packages/ipykernel/kernelbase.py\u001b[0m in \u001b[0;36mraw_input\u001b[0;34m(self, prompt)\u001b[0m\n\u001b[1;32m    702\u001b[0m             \u001b[0mself\u001b[0m\u001b[0;34m.\u001b[0m\u001b[0m_parent_ident\u001b[0m\u001b[0;34m,\u001b[0m\u001b[0;34m\u001b[0m\u001b[0;34m\u001b[0m\u001b[0m\n\u001b[1;32m    703\u001b[0m             \u001b[0mself\u001b[0m\u001b[0;34m.\u001b[0m\u001b[0m_parent_header\u001b[0m\u001b[0;34m,\u001b[0m\u001b[0;34m\u001b[0m\u001b[0;34m\u001b[0m\u001b[0m\n\u001b[0;32m--> 704\u001b[0;31m             \u001b[0mpassword\u001b[0m\u001b[0;34m=\u001b[0m\u001b[0;32mFalse\u001b[0m\u001b[0;34m,\u001b[0m\u001b[0;34m\u001b[0m\u001b[0;34m\u001b[0m\u001b[0m\n\u001b[0m\u001b[1;32m    705\u001b[0m         )\n\u001b[1;32m    706\u001b[0m \u001b[0;34m\u001b[0m\u001b[0m\n",
            "\u001b[0;32m/usr/local/lib/python3.7/dist-packages/ipykernel/kernelbase.py\u001b[0m in \u001b[0;36m_input_request\u001b[0;34m(self, prompt, ident, parent, password)\u001b[0m\n\u001b[1;32m    732\u001b[0m             \u001b[0;32mexcept\u001b[0m \u001b[0mKeyboardInterrupt\u001b[0m\u001b[0;34m:\u001b[0m\u001b[0;34m\u001b[0m\u001b[0;34m\u001b[0m\u001b[0m\n\u001b[1;32m    733\u001b[0m                 \u001b[0;31m# re-raise KeyboardInterrupt, to truncate traceback\u001b[0m\u001b[0;34m\u001b[0m\u001b[0;34m\u001b[0m\u001b[0;34m\u001b[0m\u001b[0m\n\u001b[0;32m--> 734\u001b[0;31m                 \u001b[0;32mraise\u001b[0m \u001b[0mKeyboardInterrupt\u001b[0m\u001b[0;34m\u001b[0m\u001b[0;34m\u001b[0m\u001b[0m\n\u001b[0m\u001b[1;32m    735\u001b[0m             \u001b[0;32melse\u001b[0m\u001b[0;34m:\u001b[0m\u001b[0;34m\u001b[0m\u001b[0;34m\u001b[0m\u001b[0m\n\u001b[1;32m    736\u001b[0m                 \u001b[0;32mbreak\u001b[0m\u001b[0;34m\u001b[0m\u001b[0;34m\u001b[0m\u001b[0m\n",
            "\u001b[0;31mKeyboardInterrupt\u001b[0m: "
          ]
        }
      ]
    }
  ],
  "metadata": {
    "colab": {
      "name": "Untitled6 (1).ipynb",
      "provenance": [],
      "collapsed_sections": []
    },
    "kernelspec": {
      "display_name": "Python 3",
      "name": "python3"
    },
    "language_info": {
      "name": "python"
    },
    "accelerator": "GPU",
    "gpuClass": "standard"
  },
  "nbformat": 4,
  "nbformat_minor": 0
}